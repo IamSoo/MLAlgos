{
 "cells": [
  {
   "cell_type": "code",
   "execution_count": 1,
   "metadata": {},
   "outputs": [
    {
     "name": "stderr",
     "output_type": "stream",
     "text": [
      "/anaconda/lib/python3.6/site-packages/h5py/__init__.py:34: FutureWarning: Conversion of the second argument of issubdtype from `float` to `np.floating` is deprecated. In future, it will be treated as `np.float64 == np.dtype(float).type`.\n",
      "  from ._conv import register_converters as _register_converters\n",
      "Using TensorFlow backend.\n"
     ]
    }
   ],
   "source": [
    "import numpy as np\n",
    "import pandas as pd\n",
    "import seaborn as sb\n",
    "from sklearn import datasets\n",
    "from sklearn.model_selection import train_test_split\n",
    "from sklearn.preprocessing import StandardScaler\n",
    "from sklearn.metrics import accuracy_score\n",
    "from sklearn.linear_model import Perceptron\n",
    "import matplotlib.pyplot as plt\n",
    "%matplotlib inline\n",
    "from sklearn.neural_network import MLPRegressor\n",
    "from sklearn import preprocessing as pre\n",
    "from sklearn.metrics import classification_report,confusion_matrix\n",
    "from keras.models import Sequential\n",
    "from keras.layers import Dense\n",
    "from keras.wrappers.scikit_learn import KerasRegressor\n",
    "from sklearn.model_selection import cross_val_score\n",
    "from sklearn.model_selection import KFold\n",
    "from sklearn.preprocessing import StandardScaler\n",
    "from sklearn.pipeline import Pipeline\n",
    "from sklearn import metrics\n",
    "import shutil\n",
    "import os\n",
    "import requests\n",
    "import base64\n",
    "\n"
   ]
  },
  {
   "cell_type": "code",
   "execution_count": 2,
   "metadata": {
    "collapsed": true
   },
   "outputs": [],
   "source": [
    "#load the data\n",
    "train_pd = pd.read_csv(\"/Users/soonam/Desktop/HKUST/Courses/MSBD5001/Project/Kaggle/train.csv\")\n",
    "test_pd = pd.read_csv(\"/Users/soonam/Desktop/HKUST/Courses/MSBD5001/Project/Kaggle/test.csv\")\n"
   ]
  },
  {
   "cell_type": "code",
   "execution_count": 3,
   "metadata": {},
   "outputs": [
    {
     "name": "stdout",
     "output_type": "stream",
     "text": [
      "Training data shape (400, 15)\n",
      "Testing data shape(100, 14)\n"
     ]
    }
   ],
   "source": [
    "print('Training data shape {}'.format(train_pd.shape))\n",
    "print('Testing data shape{}'.format(test_pd.shape))\n"
   ]
  },
  {
   "cell_type": "code",
   "execution_count": 4,
   "metadata": {
    "collapsed": true
   },
   "outputs": [],
   "source": [
    "#Feature engineering..\n",
    "#Hot encoding for  penalty column\n",
    "#train_pd.penalty.unique();\n",
    "#one hot encoding\n",
    "#training data\n",
    "train_pd_encoded = pd.get_dummies(train_pd, columns=['penalty'])\n",
    "train_pd_encoded['n_classes'] = train_pd_encoded.n_classes.astype('category')\n",
    "train_pd_encoded['n_clusters_per_class'] = train_pd_encoded.n_clusters_per_class.astype('category')\n",
    "train_pd_encoded['n_informative'] = train_pd_encoded.n_informative.astype('category')\n",
    "train_pd_encoded['n_jobs'] = train_pd_encoded.n_jobs.astype('category')\n",
    "train_pd_encoded['alpha'] = train_pd_encoded.alpha.astype('category')\n",
    "\n",
    "\n",
    "#testing data\n",
    "test_pd_encoded = pd.get_dummies(test_pd, columns=['penalty'])\n",
    "test_pd_encoded['n_classes'] = test_pd_encoded.n_classes.astype('category')\n",
    "test_pd_encoded['n_clusters_per_class'] = test_pd_encoded.n_clusters_per_class.astype('category')\n",
    "test_pd_encoded['n_informative'] = test_pd_encoded.n_informative.astype('category')\n",
    "test_pd_encoded['n_jobs'] = test_pd_encoded.n_jobs.astype('category')\n",
    "test_pd_encoded['alpha'] = test_pd_encoded.alpha.astype('category')\n",
    "\n",
    "#test_pd_encoded.head()#\n",
    "#randomseed = np.random.seed(0)\n"
   ]
  },
  {
   "cell_type": "code",
   "execution_count": null,
   "metadata": {
    "collapsed": true
   },
   "outputs": [],
   "source": []
  },
  {
   "cell_type": "code",
   "execution_count": null,
   "metadata": {
    "collapsed": true
   },
   "outputs": [],
   "source": [
    "   "
   ]
  },
  {
   "cell_type": "code",
   "execution_count": 5,
   "metadata": {
    "collapsed": true
   },
   "outputs": [],
   "source": [
    "#select columns\n",
    "X_before_train = train_pd_encoded[['l1_ratio', 'alpha', 'max_iter', 'random_state', 'n_jobs',\n",
    "      'n_samples', 'n_features', 'n_classes', 'n_clusters_per_class',\n",
    "       'n_informative', 'flip_y', 'scale',\n",
    "        'penalty_elasticnet','penalty_l1', 'penalty_l2', 'penalty_none']]\n",
    "\n",
    "y_before_train = train_pd_encoded['time']\n",
    "x_to_be_predicted = test_pd_encoded.drop('id',axis=1)\n"
   ]
  },
  {
   "cell_type": "code",
   "execution_count": 8,
   "metadata": {},
   "outputs": [
    {
     "name": "stdout",
     "output_type": "stream",
     "text": [
      "Training Feature  shape (400, 16)\n",
      "Training Label data shape (400,)\n",
      "Testing data shape(100, 16)\n"
     ]
    }
   ],
   "source": [
    "print('Training Feature  shape {}'.format(X_before_train.shape))\n",
    "print('Training Label data shape {}'.format(y_before_train.shape))\n",
    "\n",
    "print('Testing data shape{}'.format(x_to_be_predicted.shape))"
   ]
  },
  {
   "cell_type": "code",
   "execution_count": 9,
   "metadata": {
    "collapsed": true
   },
   "outputs": [],
   "source": [
    "# Regression chart.\n",
    "def chart_regression(pred,y,sort=True):\n",
    "    t = pd.DataFrame({'pred' : pred, 'y' : y.flatten()})\n",
    "    if sort:\n",
    "        t.sort_values(by=['y'],inplace=True)\n",
    "    a = plt.plot(t['y'].tolist(),label='expected')\n",
    "    b = plt.plot(t['pred'].tolist(),label='prediction')\n",
    "    plt.ylabel('output')\n",
    "    plt.legend()\n",
    "    plt.show()"
   ]
  },
  {
   "cell_type": "code",
   "execution_count": 156,
   "metadata": {},
   "outputs": [],
   "source": [
    "#create model\n",
    "import keras\n",
    "from keras.models import Sequential\n",
    "from keras.layers import Dense\n",
    "from sklearn.datasets import make_regression\n",
    "from sklearn.preprocessing import MinMaxScaler\n",
    "sgd=keras.optimizers.SGD(lr=0.0001,nesterov=True)\n",
    "def build_model():\n",
    "    model = Sequential()\n",
    "    model.add(Dense(64,activation='relu',input_shape=(X_before_train.shape[1],)))\n",
    "    model.add(Dense(32,activation='relu'))\n",
    "    model.add(Dense(8,activation='relu'))\n",
    "    model.add(Dense(1))\n",
    "    model.compile(optimizer=sgd,\n",
    "              loss='mean_squared_error',\n",
    "              metrics=['mse'])\n",
    "    return model"
   ]
  },
  {
   "cell_type": "code",
   "execution_count": 157,
   "metadata": {},
   "outputs": [
    {
     "name": "stdout",
     "output_type": "stream",
     "text": [
      "_________________________________________________________________\n",
      "Layer (type)                 Output Shape              Param #   \n",
      "=================================================================\n",
      "dense_355 (Dense)            (None, 64)                1088      \n",
      "_________________________________________________________________\n",
      "dense_356 (Dense)            (None, 32)                2080      \n",
      "_________________________________________________________________\n",
      "dense_357 (Dense)            (None, 8)                 264       \n",
      "_________________________________________________________________\n",
      "dense_358 (Dense)            (None, 1)                 9         \n",
      "=================================================================\n",
      "Total params: 3,441\n",
      "Trainable params: 3,441\n",
      "Non-trainable params: 0\n",
      "_________________________________________________________________\n"
     ]
    }
   ],
   "source": [
    "model = build_model()\n",
    "model.summary()"
   ]
  },
  {
   "cell_type": "code",
   "execution_count": 171,
   "metadata": {},
   "outputs": [],
   "source": [
    "# example of training a final regression model\n",
    "\n",
    "# generate regression dataset\n",
    "X_train, X_test, y_train, y_test = train_test_split(X_before_train, y_before_train,\n",
    "                                                    test_size=0.25, random_state=0)\n",
    "scaler = StandardScaler().fit(X_train)\n",
    "\n",
    "X_train_scaled = scaler.transform(X_train)\n",
    "X_test_scaled = scaler.transform(X_test)\n",
    "\n",
    "scaled_data_to_be_predicted =  scaler.transform(x_to_be_predicted)\n",
    "\n",
    "hist1 = model.fit(X_train_scaled, y_train, validation_data =(X_test_scaled,y_test), epochs=100, batch_size=16,verbose=0)\n",
    "\n"
   ]
  },
  {
   "cell_type": "code",
   "execution_count": 175,
   "metadata": {},
   "outputs": [
    {
     "name": "stdout",
     "output_type": "stream",
     "text": [
      "300/300 [==============================] - 0s 121us/step\n",
      "Training Score is  [7.505903129577637, 7.505903129577637]\n",
      "100/100 [==============================] - 0s 164us/step\n",
      "Testing Score is  [20.316063430309296, 20.316063430309296]\n"
     ]
    }
   ],
   "source": [
    "score = model.evaluate(X_train_scaled, y_train)\n",
    "print(\"Training Score is \",score)\n",
    "\n",
    "score = model.evaluate(X_test_scaled, y_test)\n",
    "print(\"Testing Score is \",score)"
   ]
  },
  {
   "cell_type": "code",
   "execution_count": 176,
   "metadata": {},
   "outputs": [
    {
     "name": "stdout",
     "output_type": "stream",
     "text": [
      "Score (RMSE): 8.01354192477793\n"
     ]
    }
   ],
   "source": [
    "predicted_value = model.predict(scaled_data_to_be_predicted)\n",
    "score = np.sqrt(metrics.mean_squared_error(y_test,predicted_value))\n",
    "print(\"Score (RMSE): {}\".format(score))"
   ]
  },
  {
   "cell_type": "code",
   "execution_count": null,
   "metadata": {},
   "outputs": [],
   "source": []
  },
  {
   "cell_type": "code",
   "execution_count": 174,
   "metadata": {},
   "outputs": [
    {
     "data": {
      "image/png": "[encoded data removed]",
      "text/plain": [
       "<matplotlib.figure.Figure at 0x13eafc2e8>"
      ]
     },
     "metadata": {},
     "output_type": "display_data"
    }
   ],
   "source": [
    "num_epoch = 100\n",
    "train_loss=hist1.history['loss']\n",
    "#val_loss=hist.history['val_loss']\n",
    "#train_acc=hist.history['acc']\n",
    "#val_acc=hist.history['val_acc']\n",
    "xc=range(num_epoch)\n",
    "\n",
    "plt.figure(1,figsize=(7,5))\n",
    "plt.plot(xc,train_loss)\n",
    "#plt.plot(xc,val_loss)\n",
    "plt.xlabel('num of Epochs')\n",
    "plt.ylabel('loss')\n",
    "plt.title('train_loss')\n",
    "plt.grid(True)\n",
    "plt.legend(['train','val'])\n",
    "#print plt.style.available # use bmh, classic,ggplot for big pictures\n",
    "plt.style.use(['classic'])"
   ]
  },
  {
   "cell_type": "code",
   "execution_count": null,
   "metadata": {
    "collapsed": true
   },
   "outputs": [],
   "source": []
  },
  {
   "cell_type": "code",
   "execution_count": 162,
   "metadata": {},
   "outputs": [
    {
     "data": {
      "text/plain": [
       "\"sgd=keras.optimizers.SGD()\\n\\ndef build_model():\\n    model = Sequential()\\n    model.add(Dense(64,activation='relu',input_shape=(X_train.shape[1],)))\\n    model.add(Dense(32,activation='relu'))\\n    model.add(Dense(1))\\n    model.compile(optimizer=sgd,\\n              loss='mean_squared_error',\\n              metrics=['mae'])\\n    return model\""
      ]
     },
     "execution_count": 162,
     "metadata": {},
     "output_type": "execute_result"
    }
   ],
   "source": [
    "'''sgd=keras.optimizers.SGD()\n",
    "\n",
    "def build_model():\n",
    "    model = Sequential()\n",
    "    model.add(Dense(64,activation='relu',input_shape=(X_train.shape[1],)))\n",
    "    model.add(Dense(32,activation='relu'))\n",
    "    model.add(Dense(1))\n",
    "    model.compile(optimizer=sgd,\n",
    "              loss='mean_squared_error',\n",
    "              metrics=['mae'])\n",
    "    return model'''"
   ]
  },
  {
   "cell_type": "code",
   "execution_count": 163,
   "metadata": {},
   "outputs": [],
   "source": [
    "#from keras.wrappers.scikit_learn import KerasRegressor\n",
    "#from sklearn.model_selection import cross_val_score\n",
    "#from sklearn.preprocessing import StandardScaler\n",
    "#from sklearn.pipeline import Pipeline\n",
    "# fix random seed for reproducibility\n",
    "#seed = 7\n",
    "#np.random.seed(seed)\n",
    "# evaluate model with standardized dataset\n",
    "#estimators = []\n",
    "#estimators.append(('standardize', StandardScaler()))\n",
    "#estimators.append(('mlp', KerasRegressor(build_fn=build_model, epochs=100, batch_size=16, verbose=0)))\n",
    "#pipeline = Pipeline(estimators)\n",
    "#kfold = KFold(n_splits=10, random_state=seed)\n",
    "#results = cross_val_score(pipeline, X_test_scaled, y_test, cv=kfold)\n",
    "#print(\"Standardized: %.2f (%.2f) MSE\" % (results.mean(), results.std()))\n"
   ]
  },
  {
   "cell_type": "code",
   "execution_count": 164,
   "metadata": {},
   "outputs": [],
   "source": [
    "#hist = model.fit(X_train_scaled, y_train, epochs=100, batch_size=16,verbose=0)\n",
    "#score = model.evaluate(X_test_scaled, y_test)\n",
    "#print(\"Score is \",score)"
   ]
  },
  {
   "cell_type": "code",
   "execution_count": 165,
   "metadata": {},
   "outputs": [],
   "source": [
    "#results = cross_val_score(pipeline, X_test_scaled, y_test, cv=kfold)\n",
    "#print(\"Standardized: %.2f (%.2f) MSE\" % (results.mean(), results.std()))\n",
    "\n"
   ]
  },
  {
   "cell_type": "code",
   "execution_count": 166,
   "metadata": {},
   "outputs": [],
   "source": [
    "#num_epoch = 100\n",
    "#train_loss=hist.history['loss']\n",
    "\n",
    "#xc=range(num_epoch)\n",
    "\n",
    "#plt.figure(1,figsize=(7,5))\n",
    "#plt.plot(xc,train_loss)\n",
    "#plt.xlabel('num of Epochs')\n",
    "#plt.ylabel('loss')\n",
    "#plt.title('train_loss')\n",
    "#plt.grid(True)\n",
    "#plt.legend(['train','val'])\n",
    "#print plt.style.available # use bmh, classic,ggplot for big pictures\n",
    "#plt.style.use(['classic'])"
   ]
  },
  {
   "cell_type": "code",
   "execution_count": null,
   "metadata": {},
   "outputs": [],
   "source": []
  },
  {
   "cell_type": "code",
   "execution_count": 167,
   "metadata": {},
   "outputs": [],
   "source": [
    "#predicted_value = model.predict(X_test_scaled)\n",
    "#score = np.sqrt(metrics.mean_squared_error(y_test,predicted_value))\n",
    "#print(\"Score (RMSE): {}\".format(score))"
   ]
  },
  {
   "cell_type": "code",
   "execution_count": null,
   "metadata": {},
   "outputs": [],
   "source": []
  },
  {
   "cell_type": "code",
   "execution_count": null,
   "metadata": {},
   "outputs": [],
   "source": []
  },
  {
   "cell_type": "code",
   "execution_count": 168,
   "metadata": {},
   "outputs": [],
   "source": [
    "#final_predict_df = pd.DataFrame({'time' : (predicted_value)})\n",
    "final_predict_df = pd.DataFrame((predicted_value))\n",
    "\n",
    "predicted_mean = predicted_value.mean()\n",
    "final_predict_df[final_predict_df<0] = predicted_mean\n",
    "final_predict_df.index.name='id'\n",
    "final_predict_df.to_csv('/Users/soonam/Desktop/HKUST/Courses/MSBD5001/Project/Kaggle/submit25.csv')"
   ]
  },
  {
   "cell_type": "code",
   "execution_count": null,
   "metadata": {},
   "outputs": [],
   "source": []
  },
  {
   "cell_type": "code",
   "execution_count": 125,
   "metadata": {},
   "outputs": [
    {
     "data": {
      "image/png": "[encoded data removed]",
      "text/plain": [
       "<matplotlib.figure.Figure at 0x13cd187f0>"
      ]
     },
     "metadata": {},
     "output_type": "display_data"
    }
   ],
   "source": [
    "plt.scatter(predicted_value, y_test,  color='black')\n",
    "plt.show()\n"
   ]
  },
  {
   "cell_type": "code",
   "execution_count": null,
   "metadata": {},
   "outputs": [],
   "source": []
  },
  {
   "cell_type": "code",
   "execution_count": null,
   "metadata": {
    "collapsed": true
   },
   "outputs": [],
   "source": []
  },
  {
   "cell_type": "code",
   "execution_count": null,
   "metadata": {
    "collapsed": true
   },
   "outputs": [],
   "source": [
    "combined = X_before_train.append(test_pd_encoded)\n",
    "combined.reset_index(inplace=True)\n",
    "combined.drop(['index', 'id'], inplace=True, axis=1)"
   ]
  },
  {
   "cell_type": "code",
   "execution_count": null,
   "metadata": {
    "collapsed": true
   },
   "outputs": [],
   "source": [
    "combined.hist(figsize = (12,10))\n",
    "plt.show()\n",
    "combined.head()\n"
   ]
  },
  {
   "cell_type": "code",
   "execution_count": null,
   "metadata": {
    "collapsed": true
   },
   "outputs": [],
   "source": []
  },
  {
   "cell_type": "code",
   "execution_count": null,
   "metadata": {
    "collapsed": true
   },
   "outputs": [],
   "source": []
  },
  {
   "cell_type": "code",
   "execution_count": null,
   "metadata": {
    "collapsed": true
   },
   "outputs": [],
   "source": []
  },
  {
   "cell_type": "code",
   "execution_count": null,
   "metadata": {
    "collapsed": true
   },
   "outputs": [],
   "source": []
  }
 ],
 "metadata": {
  "kernelspec": {
   "display_name": "Python 3",
   "language": "python",
   "name": "python3"
  },
  "language_info": {
   "codemirror_mode": {
    "name": "ipython",
    "version": 3
   },
   "file_extension": ".py",
   "mimetype": "text/x-python",
   "name": "python",
   "nbconvert_exporter": "python",
   "pygments_lexer": "ipython3",
   "version": "3.6.6"
  }
 },
 "nbformat": 4,
 "nbformat_minor": 2
}
